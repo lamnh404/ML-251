{
 "cells": [
  {
   "cell_type": "markdown",
   "metadata": {},
   "source": [
    "# BÁO CÁO THỰC NGHIỆM: MÔ HÌNH MẠNG LƯỚI BAYESIAN\n",
    "## Ứng dụng: Dự đoán Hiệu suất Học tập của Sinh viên\n",
    "\n",
    "**Mục tiêu:**\n",
    "1. Xây dựng mô hình Mạng lưới Bayesian (BN) với 5 nút.\n",
    "2. Cài đặt và minh họa thuật toán suy luận chính xác (Enumeration-Ask) và xấp xỉ (Rejection Sampling).\n",
    "3. Đánh giá ưu điểm và hạn chế của các phương pháp suy luận.\n",
    "\n",
    "---"
   ]
  },
  {
   "cell_type": "code",
   "execution_count": 64,
   "metadata": {},
   "outputs": [
    {
     "name": "stdout",
     "output_type": "stream",
     "text": [
      "Các lớp DAG và BayesianNetwork đã được định nghĩa.\n"
     ]
    }
   ],
   "source": [
    "import random\n",
    "import time\n",
    "import pandas as pd\n",
    "from IPython.display import display, Markdown, HTML\n",
    "from dag_library import DAG\n",
    "\n",
    "# --- Lớp Bayesian Network ---\n",
    "class BayesianNetwork:\n",
    "    def __init__(self, dag_instance):\n",
    "        self.dag = dag_instance\n",
    "        self.cpts = {} \n",
    "        self.nodes_vars = {} \n",
    "\n",
    "    def add_node_vars(self, node, possible_values):\n",
    "        self.dag.add_node(node)\n",
    "        self.nodes_vars[node] = possible_values\n",
    "\n",
    "    def add_edge(self, u, v):\n",
    "        self.dag.add_edge(u, v)\n",
    "\n",
    "    def add_cpt(self, node, cpt_table):\n",
    "        self.cpts[node] = cpt_table\n",
    "    \n",
    "    def get_parents(self, node):\n",
    "        return [p for p, children in self.dag.adj.items() if node in children]\n",
    "\n",
    "    # Thuật toán Suy luận Chính xác\n",
    "    def enumeration_ask(self, query_var, evidence):\n",
    "        def enumerate_all(variables, evidence_vars):\n",
    "            if not variables: return 1.0\n",
    "            first_var = variables[0]\n",
    "            rest_vars = variables[1:]\n",
    "            \n",
    "            node_parents = self.get_parents(first_var)\n",
    "            parent_states = tuple([evidence_vars.get(p) for p in node_parents])\n",
    "\n",
    "            if first_var in evidence_vars:\n",
    "                val = evidence_vars[first_var]\n",
    "                prob = self.cpts[first_var][parent_states][val]\n",
    "                return prob * enumerate_all(rest_vars, evidence_vars)\n",
    "            else:\n",
    "                total_prob = 0\n",
    "                for val in self.nodes_vars[first_var]:\n",
    "                    prob = self.cpts[first_var][parent_states][val]\n",
    "                    new_evidence = evidence_vars.copy()\n",
    "                    new_evidence[first_var] = val\n",
    "                    total_prob += prob * enumerate_all(rest_vars, new_evidence)\n",
    "                return total_prob\n",
    "\n",
    "        Q = {val: 0.0 for val in self.nodes_vars[query_var]}\n",
    "        ordered_vars = self.dag.topological_sort()\n",
    "\n",
    "        for q_val in self.nodes_vars[query_var]:\n",
    "            extended_evidence = evidence.copy()\n",
    "            extended_evidence[query_var] = q_val\n",
    "            Q[q_val] = enumerate_all(ordered_vars, extended_evidence)\n",
    "        \n",
    "        total = sum(Q.values())\n",
    "        return {val: prob / total for val, prob in Q.items()}\n",
    "\n",
    "    # Thuật toán Suy luận Xấp xỉ\n",
    "    def rejection_sampling(self, query_var, evidence, num_samples):\n",
    "        counts = {val: 0 for val in self.nodes_vars[query_var]}\n",
    "        total_accepted_samples = 0\n",
    "        \n",
    "        for _ in range(num_samples):\n",
    "            sample = {}\n",
    "            is_consistent = True\n",
    "            for node in self.dag.topological_sort():\n",
    "                node_parents = self.get_parents(node)\n",
    "                parent_states = tuple([sample.get(p) for p in node_parents])\n",
    "                \n",
    "                cpt = self.cpts[node][parent_states]\n",
    "                values = list(cpt.keys())\n",
    "                probabilities = list(cpt.values())\n",
    "                \n",
    "                sampled_val = random.choices(values, weights=probabilities, k=1)[0]\n",
    "                sample[node] = sampled_val\n",
    "                \n",
    "                if node in evidence and sampled_val != evidence[node]:\n",
    "                    is_consistent = False\n",
    "                    break\n",
    "            \n",
    "            if is_consistent:\n",
    "                counts[sample[query_var]] += 1\n",
    "                total_accepted_samples += 1\n",
    "        \n",
    "        if total_accepted_samples == 0:\n",
    "            return {val: 0.0 for val in counts}, total_accepted_samples\n",
    "        \n",
    "        return {val: count / total_accepted_samples for val, count in counts.items()}, total_accepted_samples\n",
    "\n",
    "print(\"Các lớp DAG và BayesianNetwork đã được định nghĩa.\")"
   ]
  },
  {
   "cell_type": "markdown",
   "metadata": {},
   "source": [
    "## XÂY DỰNG MÔ HÌNH\n",
    "\n",
    "**Bài toán:** Mạng lưới Dự đoán Hiệu suất Học tập (Student Performance)\n",
    "\n",
    "| Biến | Ý nghĩa | Giá trị | Phụ thuộc\n",
    "| :--- | :--- | :--- | :--- |\n",
    "| **D** (Difficulty) | Độ khó | Easy, Hard |\n",
    "| **I** (Intelligence) | Trí thông minh | Low, High |\n",
    "| **G** (Grade) | Điểm thi | A, B, C | **D**, **I** |\n",
    "| **S** (SAT) | Điểm SAT | Low, High | **I** |\n",
    "| **L** (Letter) | Đánh giá cuối cùng | Weak, Strong | **G** |\n",
    "\n",
    "**Cấu trúc:** $D \\rightarrow G$, $I \\rightarrow G$, $I \\rightarrow S$, $G \\rightarrow L$ (Tổng cộng 5 nút, 5 CPTs)."
   ]
  },
  {
   "cell_type": "code",
   "execution_count": 65,
   "metadata": {},
   "outputs": [],
   "source": [
    "# --- Xây dựng mô hình Student Performance Network ---\n",
    "dag = DAG()\n",
    "bn = BayesianNetwork(dag)\n",
    "\n",
    "# 1. Thêm các nút và giá trị\n",
    "bn.add_node_vars(\"Intelligence\", [\"Low\", \"High\"])\n",
    "bn.add_node_vars(\"Difficulty\", [\"Easy\", \"Hard\"])\n",
    "bn.add_node_vars(\"Grade\", [\"A\", \"B\", \"C\"])\n",
    "bn.add_node_vars(\"SAT\", [\"Low\", \"High\"])\n",
    "bn.add_node_vars(\"Letter\", [\"Weak\", \"Strong\"])\n",
    "\n",
    "# 2. Thêm các cạnh\n",
    "bn.add_edge(\"Intelligence\", \"Grade\")\n",
    "bn.add_edge(\"Difficulty\", \"Grade\")\n",
    "bn.add_edge(\"Intelligence\", \"SAT\")\n",
    "bn.add_edge(\"Grade\", \"Letter\")\n",
    "\n",
    "# 3. Thêm các CPT\n",
    "bn.add_cpt(\"Difficulty\", {(): {\"Easy\": 0.6, \"Hard\": 0.4}})\n",
    "bn.add_cpt(\"Intelligence\", {(): {\"Low\":0.7, \"High\":0.3}})\n",
    "\n",
    "bn.add_cpt(\"Grade\", {\n",
    "    (\"Low\", \"Easy\"): {\"A\": 0.3, \"B\": 0.4, \"C\": 0.3},\n",
    "    (\"Low\", \"Hard\"): {\"A\": 0.05, \"B\": 0.25, \"C\": 0.7},\n",
    "    (\"High\", \"Easy\"): {\"A\": 0.9, \"B\": 0.08, \"C\": 0.02},\n",
    "    (\"High\", \"Hard\"): {\"A\": 0.5, \"B\": 0.3, \"C\": 0.2}\n",
    "})\n",
    "\n",
    "bn.add_cpt(\"SAT\", {\n",
    "    (\"Low\",): {\"Low\": 0.95, \"High\": 0.05},\n",
    "    (\"High\",): {\"Low\": 0.2, \"High\": 0.8}\n",
    "})\n",
    "\n",
    "bn.add_cpt(\"Letter\", {\n",
    "    (\"A\",): {\"Weak\": 0.1, \"Strong\": 0.9},\n",
    "    (\"B\",): {\"Weak\": 0.4, \"Strong\": 0.6},\n",
    "    (\"C\",): {\"Weak\": 0.99, \"Strong\": 0.01}\n",
    "})"
   ]
  },
  {
   "cell_type": "markdown",
   "metadata": {},
   "source": [
    "### 2.2. Trực quan hóa Bảng Xác suất Điều kiện (CPTs)\n",
    "\n",
    "Sử dụng **Pandas DataFrame** để hiển thị các CPT của các nút có nút cha."
   ]
  },
  {
   "cell_type": "code",
   "execution_count": 66,
   "metadata": {},
   "outputs": [
    {
     "data": {
      "text/markdown": [
       "#### CPT cho nút: **Difficulty**"
      ],
      "text/plain": [
       "<IPython.core.display.Markdown object>"
      ]
     },
     "metadata": {},
     "output_type": "display_data"
    },
    {
     "data": {
      "text/html": [
       "<style type=\"text/css\">\n",
       "</style>\n",
       "<table id=\"T_88993\">\n",
       "  <thead>\n",
       "    <tr>\n",
       "      <th id=\"T_88993_level0_col0\" class=\"col_heading level0 col0\" >P(Difficulty)</th>\n",
       "      <th id=\"T_88993_level0_col1\" class=\"col_heading level0 col1\" >Xác suất</th>\n",
       "    </tr>\n",
       "  </thead>\n",
       "  <tbody>\n",
       "    <tr>\n",
       "      <td id=\"T_88993_row0_col0\" class=\"data row0 col0\" >Easy</td>\n",
       "      <td id=\"T_88993_row0_col1\" class=\"data row0 col1\" >0.60</td>\n",
       "    </tr>\n",
       "    <tr>\n",
       "      <td id=\"T_88993_row1_col0\" class=\"data row1 col0\" >Hard</td>\n",
       "      <td id=\"T_88993_row1_col1\" class=\"data row1 col1\" >0.40</td>\n",
       "    </tr>\n",
       "  </tbody>\n",
       "</table>\n"
      ],
      "text/plain": [
       "<pandas.io.formats.style.Styler at 0x25986f5c740>"
      ]
     },
     "metadata": {},
     "output_type": "display_data"
    },
    {
     "data": {
      "text/markdown": [
       "#### CPT cho nút: **Intelligence**"
      ],
      "text/plain": [
       "<IPython.core.display.Markdown object>"
      ]
     },
     "metadata": {},
     "output_type": "display_data"
    },
    {
     "data": {
      "text/html": [
       "<style type=\"text/css\">\n",
       "</style>\n",
       "<table id=\"T_5d49d\">\n",
       "  <thead>\n",
       "    <tr>\n",
       "      <th id=\"T_5d49d_level0_col0\" class=\"col_heading level0 col0\" >P(Intelligence)</th>\n",
       "      <th id=\"T_5d49d_level0_col1\" class=\"col_heading level0 col1\" >Xác suất</th>\n",
       "    </tr>\n",
       "  </thead>\n",
       "  <tbody>\n",
       "    <tr>\n",
       "      <td id=\"T_5d49d_row0_col0\" class=\"data row0 col0\" >Low</td>\n",
       "      <td id=\"T_5d49d_row0_col1\" class=\"data row0 col1\" >0.70</td>\n",
       "    </tr>\n",
       "    <tr>\n",
       "      <td id=\"T_5d49d_row1_col0\" class=\"data row1 col0\" >High</td>\n",
       "      <td id=\"T_5d49d_row1_col1\" class=\"data row1 col1\" >0.30</td>\n",
       "    </tr>\n",
       "  </tbody>\n",
       "</table>\n"
      ],
      "text/plain": [
       "<pandas.io.formats.style.Styler at 0x25986f5e2d0>"
      ]
     },
     "metadata": {},
     "output_type": "display_data"
    },
    {
     "data": {
      "text/markdown": [
       "#### CPT cho nút: **SAT**"
      ],
      "text/plain": [
       "<IPython.core.display.Markdown object>"
      ]
     },
     "metadata": {},
     "output_type": "display_data"
    },
    {
     "data": {
      "text/html": [
       "<style type=\"text/css\">\n",
       "</style>\n",
       "<table id=\"T_3714e\">\n",
       "  <caption>P(SAT | Intelligence)</caption>\n",
       "  <thead>\n",
       "    <tr>\n",
       "      <th id=\"T_3714e_level0_col0\" class=\"col_heading level0 col0\" >Intelligence</th>\n",
       "      <th id=\"T_3714e_level0_col1\" class=\"col_heading level0 col1\" >Low</th>\n",
       "      <th id=\"T_3714e_level0_col2\" class=\"col_heading level0 col2\" >High</th>\n",
       "    </tr>\n",
       "  </thead>\n",
       "  <tbody>\n",
       "    <tr>\n",
       "      <td id=\"T_3714e_row0_col0\" class=\"data row0 col0\" >Low</td>\n",
       "      <td id=\"T_3714e_row0_col1\" class=\"data row0 col1\" >0.95</td>\n",
       "      <td id=\"T_3714e_row0_col2\" class=\"data row0 col2\" >0.05</td>\n",
       "    </tr>\n",
       "    <tr>\n",
       "      <td id=\"T_3714e_row1_col0\" class=\"data row1 col0\" >High</td>\n",
       "      <td id=\"T_3714e_row1_col1\" class=\"data row1 col1\" >0.20</td>\n",
       "      <td id=\"T_3714e_row1_col2\" class=\"data row1 col2\" >0.80</td>\n",
       "    </tr>\n",
       "  </tbody>\n",
       "</table>\n"
      ],
      "text/plain": [
       "<pandas.io.formats.style.Styler at 0x25986f5e990>"
      ]
     },
     "metadata": {},
     "output_type": "display_data"
    },
    {
     "data": {
      "text/markdown": [
       "#### CPT cho nút: **Grade**"
      ],
      "text/plain": [
       "<IPython.core.display.Markdown object>"
      ]
     },
     "metadata": {},
     "output_type": "display_data"
    },
    {
     "data": {
      "text/html": [
       "<style type=\"text/css\">\n",
       "</style>\n",
       "<table id=\"T_57bec\">\n",
       "  <caption>P(Grade | Intelligence, Difficulty)</caption>\n",
       "  <thead>\n",
       "    <tr>\n",
       "      <th id=\"T_57bec_level0_col0\" class=\"col_heading level0 col0\" >Intelligence</th>\n",
       "      <th id=\"T_57bec_level0_col1\" class=\"col_heading level0 col1\" >Difficulty</th>\n",
       "      <th id=\"T_57bec_level0_col2\" class=\"col_heading level0 col2\" >A</th>\n",
       "      <th id=\"T_57bec_level0_col3\" class=\"col_heading level0 col3\" >B</th>\n",
       "      <th id=\"T_57bec_level0_col4\" class=\"col_heading level0 col4\" >C</th>\n",
       "    </tr>\n",
       "  </thead>\n",
       "  <tbody>\n",
       "    <tr>\n",
       "      <td id=\"T_57bec_row0_col0\" class=\"data row0 col0\" >Low</td>\n",
       "      <td id=\"T_57bec_row0_col1\" class=\"data row0 col1\" >Easy</td>\n",
       "      <td id=\"T_57bec_row0_col2\" class=\"data row0 col2\" >0.30</td>\n",
       "      <td id=\"T_57bec_row0_col3\" class=\"data row0 col3\" >0.40</td>\n",
       "      <td id=\"T_57bec_row0_col4\" class=\"data row0 col4\" >0.30</td>\n",
       "    </tr>\n",
       "    <tr>\n",
       "      <td id=\"T_57bec_row1_col0\" class=\"data row1 col0\" >Low</td>\n",
       "      <td id=\"T_57bec_row1_col1\" class=\"data row1 col1\" >Hard</td>\n",
       "      <td id=\"T_57bec_row1_col2\" class=\"data row1 col2\" >0.05</td>\n",
       "      <td id=\"T_57bec_row1_col3\" class=\"data row1 col3\" >0.25</td>\n",
       "      <td id=\"T_57bec_row1_col4\" class=\"data row1 col4\" >0.70</td>\n",
       "    </tr>\n",
       "    <tr>\n",
       "      <td id=\"T_57bec_row2_col0\" class=\"data row2 col0\" >High</td>\n",
       "      <td id=\"T_57bec_row2_col1\" class=\"data row2 col1\" >Easy</td>\n",
       "      <td id=\"T_57bec_row2_col2\" class=\"data row2 col2\" >0.90</td>\n",
       "      <td id=\"T_57bec_row2_col3\" class=\"data row2 col3\" >0.08</td>\n",
       "      <td id=\"T_57bec_row2_col4\" class=\"data row2 col4\" >0.02</td>\n",
       "    </tr>\n",
       "    <tr>\n",
       "      <td id=\"T_57bec_row3_col0\" class=\"data row3 col0\" >High</td>\n",
       "      <td id=\"T_57bec_row3_col1\" class=\"data row3 col1\" >Hard</td>\n",
       "      <td id=\"T_57bec_row3_col2\" class=\"data row3 col2\" >0.50</td>\n",
       "      <td id=\"T_57bec_row3_col3\" class=\"data row3 col3\" >0.30</td>\n",
       "      <td id=\"T_57bec_row3_col4\" class=\"data row3 col4\" >0.20</td>\n",
       "    </tr>\n",
       "  </tbody>\n",
       "</table>\n"
      ],
      "text/plain": [
       "<pandas.io.formats.style.Styler at 0x25986fa5b80>"
      ]
     },
     "metadata": {},
     "output_type": "display_data"
    },
    {
     "data": {
      "text/markdown": [
       "#### CPT cho nút: **Letter**"
      ],
      "text/plain": [
       "<IPython.core.display.Markdown object>"
      ]
     },
     "metadata": {},
     "output_type": "display_data"
    },
    {
     "data": {
      "text/html": [
       "<style type=\"text/css\">\n",
       "</style>\n",
       "<table id=\"T_05206\">\n",
       "  <caption>P(Letter | Grade)</caption>\n",
       "  <thead>\n",
       "    <tr>\n",
       "      <th id=\"T_05206_level0_col0\" class=\"col_heading level0 col0\" >Grade</th>\n",
       "      <th id=\"T_05206_level0_col1\" class=\"col_heading level0 col1\" >Weak</th>\n",
       "      <th id=\"T_05206_level0_col2\" class=\"col_heading level0 col2\" >Strong</th>\n",
       "    </tr>\n",
       "  </thead>\n",
       "  <tbody>\n",
       "    <tr>\n",
       "      <td id=\"T_05206_row0_col0\" class=\"data row0 col0\" >A</td>\n",
       "      <td id=\"T_05206_row0_col1\" class=\"data row0 col1\" >0.10</td>\n",
       "      <td id=\"T_05206_row0_col2\" class=\"data row0 col2\" >0.90</td>\n",
       "    </tr>\n",
       "    <tr>\n",
       "      <td id=\"T_05206_row1_col0\" class=\"data row1 col0\" >B</td>\n",
       "      <td id=\"T_05206_row1_col1\" class=\"data row1 col1\" >0.40</td>\n",
       "      <td id=\"T_05206_row1_col2\" class=\"data row1 col2\" >0.60</td>\n",
       "    </tr>\n",
       "    <tr>\n",
       "      <td id=\"T_05206_row2_col0\" class=\"data row2 col0\" >C</td>\n",
       "      <td id=\"T_05206_row2_col1\" class=\"data row2 col1\" >0.99</td>\n",
       "      <td id=\"T_05206_row2_col2\" class=\"data row2 col2\" >0.01</td>\n",
       "    </tr>\n",
       "  </tbody>\n",
       "</table>\n"
      ],
      "text/plain": [
       "<pandas.io.formats.style.Styler at 0x25986fa6840>"
      ]
     },
     "metadata": {},
     "output_type": "display_data"
    }
   ],
   "source": [
    "def visualize_cpt(bn_model, node_name):\n",
    "    \"\"\"Trực quan hóa CPT của một nút bằng DataFrame, không dùng canvas/vẽ.\"\"\"\n",
    "    node_cpt = bn_model.cpts.get(node_name)\n",
    "    parents = bn_model.get_parents(node_name)\n",
    "    \n",
    "    if not node_cpt:\n",
    "        print(f\"Không tìm thấy CPT cho nút: {node_name}\")\n",
    "        return\n",
    "\n",
    "    display(Markdown(f\"#### CPT cho nút: **{node_name}**\"))\n",
    "    \n",
    "    if not parents:\n",
    "        df_data = {\n",
    "            f\"P({node_name})\": list(node_cpt[()].keys()),\n",
    "            \"Xác suất\": list(node_cpt[()].values())\n",
    "        }\n",
    "        df = pd.DataFrame(df_data)\n",
    "        display(df.style.format({'Xác suất': '{:.2f}'}).hide(axis=\"index\"))\n",
    "    else:\n",
    "        rows = []\n",
    "        for parent_state_tuple, probabilities in node_cpt.items():\n",
    "            row = dict(zip(parents, parent_state_tuple))\n",
    "            row.update({val: prob for val, prob in probabilities.items()})\n",
    "            rows.append(row)\n",
    "        \n",
    "        df = pd.DataFrame(rows)\n",
    "        cols = parents + list(bn_model.nodes_vars[node_name])\n",
    "        df = df[cols]\n",
    "        \n",
    "        format_dict = {col: '{:.2f}' for col in bn_model.nodes_vars[node_name]}\n",
    "        display(df.style.hide(axis=\"index\").format(format_dict).set_caption(f\"P({node_name} | {', '.join(parents)})\"))\n",
    "\n",
    "visualize_cpt(bn, \"Difficulty\")\n",
    "visualize_cpt(bn, \"Intelligence\")\n",
    "visualize_cpt(bn, \"SAT\")\n",
    "visualize_cpt(bn, \"Grade\")\n",
    "visualize_cpt(bn, \"Letter\")"
   ]
  },
  {
   "cell_type": "markdown",
   "id": "35bfa112",
   "metadata": {},
   "source": [
    "## ỨNG DỤNG VÀ ĐÁNH GIÁ"
   ]
  },
  {
   "cell_type": "code",
   "execution_count": null,
   "metadata": {},
   "outputs": [
    {
     "data": {
      "text/markdown": [
       "### Kịch bản: Tính **P(Letter | {'SAT': 'High', 'Difficulty': 'Easy', 'Intelligence': 'Low'})**"
      ],
      "text/plain": [
       "<IPython.core.display.Markdown object>"
      ]
     },
     "metadata": {},
     "output_type": "display_data"
    },
    {
     "data": {
      "text/markdown": [
       "#### Suy luận Chính xác (Enumeration-Ask)"
      ],
      "text/plain": [
       "<IPython.core.display.Markdown object>"
      ]
     },
     "metadata": {},
     "output_type": "display_data"
    },
    {
     "data": {
      "text/html": [
       "<style type=\"text/css\">\n",
       "</style>\n",
       "<table id=\"T_d571a\">\n",
       "  <caption>Kết quả Chính xác</caption>\n",
       "  <thead>\n",
       "    <tr>\n",
       "      <th id=\"T_d571a_level0_col0\" class=\"col_heading level0 col0\" >Điểm</th>\n",
       "      <th id=\"T_d571a_level0_col1\" class=\"col_heading level0 col1\" >Xác suất</th>\n",
       "    </tr>\n",
       "  </thead>\n",
       "  <tbody>\n",
       "    <tr>\n",
       "      <td id=\"T_d571a_row0_col0\" class=\"data row0 col0\" >Weak</td>\n",
       "      <td id=\"T_d571a_row0_col1\" class=\"data row0 col1\" >0.487000</td>\n",
       "    </tr>\n",
       "    <tr>\n",
       "      <td id=\"T_d571a_row1_col0\" class=\"data row1 col0\" >Strong</td>\n",
       "      <td id=\"T_d571a_row1_col1\" class=\"data row1 col1\" >0.513000</td>\n",
       "    </tr>\n",
       "  </tbody>\n",
       "</table>\n"
      ],
      "text/plain": [
       "<pandas.io.formats.style.Styler at 0x259ff5d5bb0>"
      ]
     },
     "metadata": {},
     "output_type": "display_data"
    },
    {
     "name": "stdout",
     "output_type": "stream",
     "text": [
      "Thời gian tính toán Chính xác: 0.001001 giây\n"
     ]
    },
    {
     "data": {
      "text/markdown": [
       "#### Suy luận Xấp xỉ (Rejection Sampling)"
      ],
      "text/plain": [
       "<IPython.core.display.Markdown object>"
      ]
     },
     "metadata": {},
     "output_type": "display_data"
    },
    {
     "data": {
      "text/markdown": [
       "**Số mẫu tạo ra:** 1000000 | **Số mẫu được chấp nhận:** 21004 (2.10%) "
      ],
      "text/plain": [
       "<IPython.core.display.Markdown object>"
      ]
     },
     "metadata": {},
     "output_type": "display_data"
    },
    {
     "data": {
      "text/html": [
       "<style type=\"text/css\">\n",
       "</style>\n",
       "<table id=\"T_c2112\">\n",
       "  <caption>Kết quả Xấp xỉ (N=1000000)</caption>\n",
       "  <thead>\n",
       "    <tr>\n",
       "      <th id=\"T_c2112_level0_col0\" class=\"col_heading level0 col0\" >Điểm</th>\n",
       "      <th id=\"T_c2112_level0_col1\" class=\"col_heading level0 col1\" >Xác suất</th>\n",
       "    </tr>\n",
       "  </thead>\n",
       "  <tbody>\n",
       "    <tr>\n",
       "      <td id=\"T_c2112_row0_col0\" class=\"data row0 col0\" >Weak</td>\n",
       "      <td id=\"T_c2112_row0_col1\" class=\"data row0 col1\" >0.490811</td>\n",
       "    </tr>\n",
       "    <tr>\n",
       "      <td id=\"T_c2112_row1_col0\" class=\"data row1 col0\" >Strong</td>\n",
       "      <td id=\"T_c2112_row1_col1\" class=\"data row1 col1\" >0.509189</td>\n",
       "    </tr>\n",
       "  </tbody>\n",
       "</table>\n"
      ],
      "text/plain": [
       "<pandas.io.formats.style.Styler at 0x25986b70bc0>"
      ]
     },
     "metadata": {},
     "output_type": "display_data"
    },
    {
     "name": "stdout",
     "output_type": "stream",
     "text": [
      "Thời gian tính toán Xấp xỉ: 8.082413 giây\n"
     ]
    },
    {
     "data": {
      "text/markdown": [
       "### So sánh"
      ],
      "text/plain": [
       "<IPython.core.display.Markdown object>"
      ]
     },
     "metadata": {},
     "output_type": "display_data"
    },
    {
     "data": {
      "text/html": [
       "<style type=\"text/css\">\n",
       "</style>\n",
       "<table id=\"T_34f67\">\n",
       "  <thead>\n",
       "    <tr>\n",
       "      <th id=\"T_34f67_level0_col0\" class=\"col_heading level0 col0\" >Điểm</th>\n",
       "      <th id=\"T_34f67_level0_col1\" class=\"col_heading level0 col1\" >P(Chính xác)</th>\n",
       "      <th id=\"T_34f67_level0_col2\" class=\"col_heading level0 col2\" >P(Xấp xỉ)</th>\n",
       "      <th id=\"T_34f67_level0_col3\" class=\"col_heading level0 col3\" >Sai số |P_exact - P_approx|</th>\n",
       "    </tr>\n",
       "  </thead>\n",
       "  <tbody>\n",
       "    <tr>\n",
       "      <td id=\"T_34f67_row0_col0\" class=\"data row0 col0\" >Weak</td>\n",
       "      <td id=\"T_34f67_row0_col1\" class=\"data row0 col1\" >0.487000</td>\n",
       "      <td id=\"T_34f67_row0_col2\" class=\"data row0 col2\" >0.490811</td>\n",
       "      <td id=\"T_34f67_row0_col3\" class=\"data row0 col3\" >0.003811</td>\n",
       "    </tr>\n",
       "    <tr>\n",
       "      <td id=\"T_34f67_row1_col0\" class=\"data row1 col0\" >Strong</td>\n",
       "      <td id=\"T_34f67_row1_col1\" class=\"data row1 col1\" >0.513000</td>\n",
       "      <td id=\"T_34f67_row1_col2\" class=\"data row1 col2\" >0.509189</td>\n",
       "      <td id=\"T_34f67_row1_col3\" class=\"data row1 col3\" >0.003811</td>\n",
       "    </tr>\n",
       "  </tbody>\n",
       "</table>\n"
      ],
      "text/plain": [
       "<pandas.io.formats.style.Styler at 0x25984395a60>"
      ]
     },
     "metadata": {},
     "output_type": "display_data"
    }
   ],
   "source": [
    "import time\n",
    "\n",
    "# --- Kịch bản Suy luận ---\n",
    "evidence = {\"SAT\": \"High\", \"Difficulty\": \"Easy\", \"Intelligence\": \"Low\"}\n",
    "query = \"Letter\"\n",
    "display(Markdown(f\"### Kịch bản: Tính **P({query} | {evidence})**\"))\n",
    "\n",
    "# ----------------------------------\n",
    "# Suy luận Chính xác (Enumeration-Ask)\n",
    "# ----------------------------------\n",
    "display(Markdown(\"#### Suy luận Chính xác (Enumeration-Ask)\"))\n",
    "start_time_exact = time.time()\n",
    "exact_result = bn.enumeration_ask(query, evidence)\n",
    "end_time_exact = time.time()\n",
    "\n",
    "data_exact = {\n",
    "    \"Điểm\": list(exact_result.keys()),\n",
    "    \"Xác suất\": list(exact_result.values())\n",
    "}\n",
    "df_exact = pd.DataFrame(data_exact)\n",
    "display(df_exact.style.format({'Xác suất': '{:.6f}'}).set_caption(\"Kết quả Chính xác\").hide(axis=\"index\"))\n",
    "time_exact = end_time_exact - start_time_exact\n",
    "print(f\"Thời gian tính toán Chính xác: {time_exact:.6f} giây\")\n",
    "\n",
    "\n",
    "# ----------------------------------\n",
    "# Suy luận Xấp xỉ (Rejection Sampling)\n",
    "# ----------------------------------\n",
    "display(Markdown(\"#### Suy luận Xấp xỉ (Rejection Sampling)\"))\n",
    "num_samples = 1000000 \n",
    "\n",
    "start_time_approx = time.time()\n",
    "approx_result, accepted_samples = bn.rejection_sampling(query, evidence, num_samples)\n",
    "end_time_approx = time.time()\n",
    "time_approx = end_time_approx - start_time_approx\n",
    "\n",
    "display(Markdown(f\"**Số mẫu tạo ra:** {num_samples} | **Số mẫu được chấp nhận:** {accepted_samples} ({(accepted_samples/num_samples)*100:.2f}%) \"))\n",
    "\n",
    "data_approx = {\n",
    "    \"Điểm\": list(approx_result.keys()),\n",
    "    \"Xác suất\": list(approx_result.values())\n",
    "}\n",
    "df_approx = pd.DataFrame(data_approx)\n",
    "display(df_approx.style.format({'Xác suất': '{:.6f}'}).set_caption(f\"Kết quả Xấp xỉ (N={num_samples})\").hide(axis=\"index\"))\n",
    "print(f\"Thời gian tính toán Xấp xỉ: {time_approx:.6f} giây\")\n",
    "\n",
    "display(Markdown(\"### So sánh\"))\n",
    "\n",
    "df_compare = pd.DataFrame({\n",
    "    'Điểm': approx_result.keys(),\n",
    "    'P(Chính xác)': [exact_result[k] for k in approx_result.keys()],\n",
    "    'P(Xấp xỉ)': [approx_result[k] for k in approx_result.keys()],\n",
    "    'Sai số |P_exact - P_approx|': [abs(exact_result[k] - approx_result[k]) for k in approx_result.keys()]\n",
    "})\n",
    "\n",
    "df_compare = df_compare.style.hide(axis=\"index\").format({'P(Chính xác)': '{:.6f}', 'P(Xấp xỉ)': '{:.6f}', 'Sai số |P_exact - P_approx|': '{:.6f}'})\n",
    "display(df_compare)"
   ]
  }
 ],
 "metadata": {
  "kernelspec": {
   "display_name": "Python 3",
   "language": "python",
   "name": "python3"
  },
  "language_info": {
   "codemirror_mode": {
    "name": "ipython",
    "version": 3
   },
   "file_extension": ".py",
   "mimetype": "text/x-python",
   "name": "python",
   "nbconvert_exporter": "python",
   "pygments_lexer": "ipython3",
   "version": "3.12.4"
  }
 },
 "nbformat": 4,
 "nbformat_minor": 5
}
